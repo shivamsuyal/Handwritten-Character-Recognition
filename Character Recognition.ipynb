{
  "nbformat": 4,
  "nbformat_minor": 0,
  "metadata": {
    "colab": {
      "name": "Char 3.ipynb",
      "provenance": [],
      "collapsed_sections": []
    },
    "kernelspec": {
      "name": "python3",
      "display_name": "Python 3"
    },
    "language_info": {
      "name": "python"
    }
  },
  "cells": [
    {
      "cell_type": "markdown",
      "source": [
        "## **Libraries**"
      ],
      "metadata": {
        "id": "2kRE7ERryaN3"
      }
    },
    {
      "cell_type": "code",
      "source": [
        "import os\n",
        "import numpy as np\n",
        "import cv2\n",
        "from tensorflow.keras.datasets import mnist\n",
        "from tensorflow import keras\n",
        "import matplotlib.pyplot as plt\n",
        "%matplotlib inline"
      ],
      "metadata": {
        "id": "Yig4arTnyYJn"
      },
      "execution_count": 2,
      "outputs": []
    },
    {
      "cell_type": "markdown",
      "source": [
        "---"
      ],
      "metadata": {
        "id": "JrolNJEhzJYR"
      }
    },
    {
      "cell_type": "markdown",
      "source": [
        "# **Import Datasets**"
      ],
      "metadata": {
        "id": "Ub6qOv6oxuxh"
      }
    },
    {
      "cell_type": "markdown",
      "source": [
        "> Mnist Dataset"
      ],
      "metadata": {
        "id": "s_kTGkKFyMgO"
      }
    },
    {
      "cell_type": "code",
      "execution_count": null,
      "metadata": {
        "id": "R4wDPIMWxW8L"
      },
      "outputs": [],
      "source": [
        "def load_mnist_dataset():\n",
        "\n",
        "  # load data from tensorflow framework\n",
        "  ((trainData, trainLabels), (testData, testLabels)) = mnist.load_data() \n",
        "\n",
        "  # Stacking train data and test data to form single array named data\n",
        "  data = np.vstack([trainData, testData]) \n",
        "\n",
        "  # Vertical stacking labels of train and test set\n",
        "  labels = np.hstack([trainLabels, testLabels]) \n",
        "\n",
        "  # return a 2-tuple of the MNIST data and labels\n",
        "  return (data, labels)\n",
        "  import cv2 \n",
        "  print(\"hrlods djhds \")"
      ]
    },
    {
      "cell_type": "markdown",
      "source": [
        ">A-Z  Dataset (**CSV**)"
      ],
      "metadata": {
        "id": "J32jv844y2yH"
      }
    },
    {
      "cell_type": "code",
      "source": [
        "def load_az_dataset_csv(url):\n",
        "\n",
        "  # List for storing data\n",
        "  data = []\n",
        "  \n",
        "  # List for storing labels\n",
        "  labels = []\n",
        "  \n",
        "  for row in open(url): #Openfile and start reading each row\n",
        "    #Split the row at every comma\n",
        "    row = row.split(\",\")\n",
        "    \n",
        "    #row[0] contains label\n",
        "    label = int(row[0])\n",
        "    \n",
        "    #Other all collumns contains pixel values make a saperate array for that\n",
        "    image = np.array([int(x) for x in row[1:]], dtype=\"uint8\")\n",
        "    \n",
        "    #Reshaping image to 28 x 28 pixels\n",
        "    image = image.reshape((28, 28))\n",
        "    \n",
        "    #append image to data\n",
        "    data.append(image)\n",
        "    \n",
        "    #append label to labels\n",
        "    labels.append(label)\n",
        "    \n",
        "  #Converting data to numpy array of type float32\n",
        "  data = np.array(data, dtype='float32')\n",
        "  \n",
        "  #Converting labels to type int\n",
        "  labels = np.array(labels, dtype=\"int\")\n",
        "  \n",
        "  return (data, labels)"
      ],
      "metadata": {
        "id": "07FkfoJ9zEhf"
      },
      "execution_count": null,
      "outputs": []
    },
    {
      "cell_type": "markdown",
      "source": [
        ">Characters Dataset (**Images**)"
      ],
      "metadata": {
        "id": "jbfqXELJzbfm"
      }
    },
    {
      "cell_type": "code",
      "source": [
        "def load_dataset_img(url):\n",
        "  \n",
        "  # List for storing data\n",
        "  data=[]\n",
        "\n",
        "  # List for storing labels\n",
        "  labels=[]\n",
        "\n",
        "  # List of images in directory\n",
        "  imgList = sorted(os.listdir(url))\n",
        "\n",
        "  for i in range(36):  \n",
        "    for j in range(55):\n",
        "        # Processing the image\n",
        "        img = cv2.imread(url+imgList.pop(0),0)\n",
        "        img = cv2.resize(img,(28,28))\n",
        "        # Invert the image for better processing\n",
        "        img = cv2.bitwise_not(img)\n",
        "        \n",
        "        # Append the image in data list\n",
        "        data.append(img)\n",
        "        # Append image name in lable list\n",
        "        labels.append(i)\n",
        "\n",
        "  return (np.array(data),np.array(labels))"
      ],
      "metadata": {
        "id": "b3hoQFp_zvQ8"
      },
      "execution_count": null,
      "outputs": []
    },
    {
      "cell_type": "markdown",
      "source": [
        "---"
      ],
      "metadata": {
        "id": "ug9znIa4I7Db"
      }
    },
    {
      "cell_type": "markdown",
      "source": [
        "# Load Data"
      ],
      "metadata": {
        "id": "eBe3WwAsCBTP"
      }
    },
    {
      "cell_type": "code",
      "source": [
        "# Number Data\n",
        "Ndata,Nlabel = load_mnist_dataset()\n",
        "# Alphabet Data\n",
        "Adata,Alabel = load_az_dataset_csv(\"/content/drive/MyDrive/Character Recognition/A_Z Handwritten Data.csv\")\n",
        "# Characters Data\n",
        "Cdata,Clabel = load_dataset_img(\"/content/drive/MyDrive/Character Recognition/Chars/\")"
      ],
      "metadata": {
        "id": "YAWGp7G1CDQM",
        "colab": {
          "base_uri": "https://localhost:8080/"
        },
        "outputId": "13bb8fc3-ccb7-443c-b0de-a9293666898b"
      },
      "execution_count": null,
      "outputs": [
        {
          "output_type": "stream",
          "name": "stdout",
          "text": [
            "Downloading data from https://storage.googleapis.com/tensorflow/tf-keras-datasets/mnist.npz\n",
            "11493376/11490434 [==============================] - 0s 0us/step\n",
            "11501568/11490434 [==============================] - 0s 0us/step\n"
          ]
        }
      ]
    },
    {
      "cell_type": "markdown",
      "source": [
        "---"
      ],
      "metadata": {
        "id": "b8_QQX6pJAIK"
      }
    },
    {
      "cell_type": "markdown",
      "source": [
        "# Data Processing and Combining"
      ],
      "metadata": {
        "id": "3dUhMrcgB3sl"
      }
    },
    {
      "cell_type": "code",
      "source": [
        "# the MNIST dataset occupies the labels 0-9, so let's add 10 to every A-Z label to ensure the A-Z characters are not incorrectly labeled \n",
        "Alabel += 10\n",
        "\n",
        "#Combaining the data\n",
        "data = np.vstack([Ndata,Adata,Cdata])\n",
        "data = np.array(data, dtype=\"float32\") #convert from unit8 to float32\n",
        "labels = np.hstack([Nlabel,Alabel,Clabel])\n",
        "\n",
        "# add a channel dimension to every image in the dataset and scale the\n",
        "data = np.expand_dims(data, axis=-1)\n",
        "# pixel intensities of the images from [0, 255] down to [0, 1]\n",
        "data /= 255.0\n"
      ],
      "metadata": {
        "id": "Q--VutQwB2vw"
      },
      "execution_count": null,
      "outputs": []
    },
    {
      "cell_type": "markdown",
      "source": [
        "---"
      ],
      "metadata": {
        "id": "3vpU_O4JJE6h"
      }
    },
    {
      "cell_type": "markdown",
      "source": [
        "# Creating and Compiling The Model"
      ],
      "metadata": {
        "id": "4Wk7Ss3SHdhI"
      }
    },
    {
      "cell_type": "code",
      "source": [
        "model = keras.Sequential()\n",
        "\n",
        "model.add(keras.layers.Conv2D(filters=60,kernel_size=(5,5),input_shape=data.shape[1:],activation=\"relu\"))\n",
        "model.add(keras.layers.Conv2D(filters=60,kernel_size=(5,5),input_shape=data.shape[1:],activation=\"relu\"))\n",
        "model.add(keras.layers.MaxPool2D(pool_size=(2,2)))\n",
        "\n",
        "model.add(keras.layers.Conv2D(filters=30,kernel_size=(3,3),activation=\"relu\"))\n",
        "model.add(keras.layers.Conv2D(filters=30,kernel_size=(3,3),activation=\"relu\"))\n",
        "model.add(keras.layers.MaxPool2D(pool_size=(2,2)))\n",
        "model.add(keras.layers.Dropout(0.5))\n",
        "\n",
        "\n",
        "model.add(keras.layers.Flatten())\n",
        "model.add(keras.layers.Dense(500,activation=\"relu\"))\n",
        "model.add(keras.layers.Dropout(0.5))\n",
        "\n",
        "model.add(keras.layers.Dense(36,activation=\"softmax\"))\n",
        "model.compile(\n",
        "    optimizer='adam',\n",
        "    loss='sparse_categorical_crossentropy',\n",
        "    metrics=[\"accuracy\"]\n",
        ")\n",
        "model.fit(data,labels,epochs=10)"
      ],
      "metadata": {
        "colab": {
          "base_uri": "https://localhost:8080/"
        },
        "id": "oSr9g9otHsvO",
        "outputId": "9c7385f6-fa49-4e84-f59a-0bb44a960e83"
      },
      "execution_count": null,
      "outputs": [
        {
          "output_type": "stream",
          "name": "stdout",
          "text": [
            "Epoch 1/10\n",
            "13889/13889 [==============================] - 2699s 194ms/step - loss: 0.3272 - accuracy: 0.9049\n",
            "Epoch 2/10\n",
            "13889/13889 [==============================] - 2690s 194ms/step - loss: 0.1929 - accuracy: 0.9438\n",
            "Epoch 3/10\n",
            "13889/13889 [==============================] - 2718s 196ms/step - loss: 0.1744 - accuracy: 0.9491\n",
            "Epoch 4/10\n",
            "13889/13889 [==============================] - 2686s 193ms/step - loss: 0.1670 - accuracy: 0.9523\n",
            "Epoch 5/10\n",
            "13889/13889 [==============================] - 2667s 192ms/step - loss: 0.1664 - accuracy: 0.9529\n",
            "Epoch 6/10\n",
            "13889/13889 [==============================] - 2663s 192ms/step - loss: 0.1638 - accuracy: 0.9538\n",
            "Epoch 7/10\n",
            "13889/13889 [==============================] - 2709s 195ms/step - loss: 0.1620 - accuracy: 0.9544\n",
            "Epoch 8/10\n",
            "13889/13889 [==============================] - 2768s 199ms/step - loss: 0.1646 - accuracy: 0.9541\n",
            "Epoch 9/10\n",
            " 3778/13889 [=======>......................] - ETA: 35:00 - loss: 0.1638 - accuracy: 0.9538"
          ]
        }
      ]
    },
    {
      "cell_type": "markdown",
      "source": [
        "---"
      ],
      "metadata": {
        "id": "YOJSvonRRNOo"
      }
    },
    {
      "cell_type": "markdown",
      "source": [
        "# Some Wapper Functions"
      ],
      "metadata": {
        "id": "-RmVyIOaNIP4"
      }
    },
    {
      "cell_type": "markdown",
      "source": [
        "> Calculate the predicted value"
      ],
      "metadata": {
        "id": "4ygFNsLNNU4j"
      }
    },
    {
      "cell_type": "code",
      "source": [
        "chars = {0: 0, 1: 1, 2: 2, 3: 3, 4: 4, 5: 5, 6: 6, 7: 7, 8: 8, 9: 9, 10: 'A', 11: 'B', 12: 'C', 13: 'D', 14: 'E', 15: 'F', 16: 'G', 17: 'H', 18: 'I', 19: 'J', 20: 'K', 21: 'L', 22: 'M', 23: 'N', 24: 'O', 25: 'P', 26: 'Q', 27: 'R', 28: 'S', 29: 'T', 30: 'U', 31: 'V', 32: 'W', 33: 'X', 34: 'Y', 35: 'Z'}\n",
        "def predictChar(m,fimg):\n",
        "  a = m.predict(fimg)\n",
        "  n = np.argmax(a)\n",
        "  p = a[0][n]*100/a.sum()\n",
        "  return {\"Character\":chars[n],\n",
        "          \"Type\":type(chars[n]),\n",
        "          \"Accuracy\":p/100\n",
        "          }"
      ],
      "metadata": {
        "id": "dWY7pdFSNOpB"
      },
      "execution_count": 3,
      "outputs": []
    },
    {
      "cell_type": "markdown",
      "source": [
        "> Image Processing Function"
      ],
      "metadata": {
        "id": "OXiKY1ICNdxG"
      }
    },
    {
      "cell_type": "code",
      "source": [
        "def processIMG(path):\n",
        "  img = cv2.imread(path,0)\n",
        "  img = cv2.resize(img,(28,28))\n",
        "  img = cv2.bitwise_not(img)\n",
        "  img = np.array(img, dtype=\"float32\")\n",
        "  img = np.expand_dims(img, axis=-1)\n",
        "  img /= 255.0\n",
        "  return img"
      ],
      "metadata": {
        "id": "EdJc4j0ENmL0"
      },
      "execution_count": 4,
      "outputs": []
    },
    {
      "cell_type": "markdown",
      "source": [
        "> Combine Both Wapper Funtions"
      ],
      "metadata": {
        "id": "PipM2jM5BHgK"
      }
    },
    {
      "cell_type": "code",
      "source": [
        "def predictImg(m,path,show=0):\n",
        "  img = processIMG(path)\n",
        "  if(show == 1):\n",
        "    plt.imshow(img.reshape(28,28),cmap='gray')\n",
        "  return predictChar(m,img.reshape(1,28,28))"
      ],
      "metadata": {
        "id": "Kg9GP_3j_77W"
      },
      "execution_count": 5,
      "outputs": []
    },
    {
      "cell_type": "markdown",
      "source": [
        "---\n",
        "---"
      ],
      "metadata": {
        "id": "Jc3n10HtRJOE"
      }
    },
    {
      "cell_type": "markdown",
      "source": [
        "# Testing"
      ],
      "metadata": {
        "id": "z9WYuoJ3Mt5J"
      }
    },
    {
      "cell_type": "markdown",
      "source": [
        "---"
      ],
      "metadata": {
        "id": "I6tmm-IKRFtI"
      }
    },
    {
      "cell_type": "code",
      "source": [
        "# Test the Model\n",
        "# i1 = processIMG(\"/content/drive/MyDrive/Character Recognition/8.png\")\n",
        "# plt.matshow(i1.reshape(28,28))\n",
        "# predictChar(model,i1.reshape(1,28,28))\n",
        "predictImg(model,\"/content/drive/MyDrive/Character Recognition/a.png\",1)"
      ],
      "metadata": {
        "id": "okWzzr5ZdrFF",
        "colab": {
          "base_uri": "https://localhost:8080/",
          "height": 283
        },
        "outputId": "8a14af4e-ae44-4a9b-d749-068d82e80f65"
      },
      "execution_count": 7,
      "outputs": [
        {
          "output_type": "execute_result",
          "data": {
            "text/plain": [
              "{'Accuracy': 1.0, 'Character': 'A', 'Type': str}"
            ]
          },
          "metadata": {},
          "execution_count": 7
        },
        {
          "output_type": "display_data",
          "data": {
            "image/png": "[encoded data removed]",
            "text/plain": [
              "<Figure size 432x288 with 1 Axes>"
            ]
          },
          "metadata": {
            "needs_background": "light"
          }
        }
      ]
    },
    {
      "cell_type": "markdown",
      "source": [
        "---"
      ],
      "metadata": {
        "id": "HomNeJp3Q-w8"
      }
    },
    {
      "cell_type": "code",
      "source": [
        "# Save the model\n",
        "model.save(\"/content/drive/MyDrive/Character Recognition/modelccn_1\")"
      ],
      "metadata": {
        "id": "MNU883uvFIsN"
      },
      "execution_count": null,
      "outputs": []
    },
    {
      "cell_type": "code",
      "source": [
        "# Load the model\n",
        "model = keras.models.load_model(\"/content/drive/MyDrive/Character Recognition/modelccn\")"
      ],
      "metadata": {
        "id": "MCABwwGomVkO"
      },
      "execution_count": 6,
      "outputs": []
    },
    {
      "cell_type": "code",
      "source": [
        "from google.colab import drive\n",
        "drive.mount('/content/drive')"
      ],
      "metadata": {
        "id": "kW7eOvrY9he_"
      },
      "execution_count": null,
      "outputs": []
    },
    {
      "cell_type": "markdown",
      "source": [
        "---"
      ],
      "metadata": {
        "id": "nuAQlfcDRBF8"
      }
    },
    {
      "cell_type": "code",
      "source": [
        "import pickle"
      ],
      "metadata": {
        "id": "7blScgNUPK1U"
      },
      "execution_count": null,
      "outputs": []
    },
    {
      "cell_type": "code",
      "source": [
        "# Pickel Dump\n",
        "with open('/content/drive/MyDrive/Character Recognition/data.pkl', 'wb') as f:\n",
        "  pickle.dump(data, f)\n",
        "with open('/content/drive/MyDrive/Character Recognition/labels.pkl', 'wb') as f:\n",
        "  pickle.dump(labels, f)"
      ],
      "metadata": {
        "id": "eWKKxtbuQzJo"
      },
      "execution_count": null,
      "outputs": []
    },
    {
      "cell_type": "code",
      "source": [
        "#pickel Load\n",
        "with open('/content/drive/MyDrive/Character Recognition/data.pkl', 'rb') as f:\n",
        "  data = pickle.load(f)\n",
        "with open('/content/drive/MyDrive/Character Recognition/labels.pkl', 'rb') as f:\n",
        "  labels = pickle.load(f)"
      ],
      "metadata": {
        "id": "Ib8zdVCQQ1LP"
      },
      "execution_count": null,
      "outputs": []
    },
    {
      "cell_type": "markdown",
      "source": [
        "---"
      ],
      "metadata": {
        "id": "7-mbiEdnRCnP"
      }
    }
  ]
}